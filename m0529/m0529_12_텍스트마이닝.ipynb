{
 "cells": [
  {
   "cell_type": "code",
   "execution_count": 16,
   "metadata": {},
   "outputs": [],
   "source": [
    "import pandas as pd\n",
    "import numpy as np\n",
    "import re\n"
   ]
  },
  {
   "cell_type": "markdown",
   "metadata": {},
   "source": []
  },
  {
   "cell_type": "code",
   "execution_count": 17,
   "metadata": {},
   "outputs": [
    {
     "data": {
      "text/html": [
       "<div>\n",
       "<style scoped>\n",
       "    .dataframe tbody tr th:only-of-type {\n",
       "        vertical-align: middle;\n",
       "    }\n",
       "\n",
       "    .dataframe tbody tr th {\n",
       "        vertical-align: top;\n",
       "    }\n",
       "\n",
       "    .dataframe thead th {\n",
       "        text-align: right;\n",
       "    }\n",
       "</style>\n",
       "<table border=\"1\" class=\"dataframe\">\n",
       "  <thead>\n",
       "    <tr style=\"text-align: right;\">\n",
       "      <th></th>\n",
       "      <th>Title</th>\n",
       "      <th>Category</th>\n",
       "      <th>Content</th>\n",
       "    </tr>\n",
       "  </thead>\n",
       "  <tbody>\n",
       "    <tr>\n",
       "      <th>0</th>\n",
       "      <td>한양대학교/서울캠퍼스/학부/공과대학</td>\n",
       "      <td>한양대학교</td>\n",
       "      <td>한양대학교 공과대학\\n漢陽大學校 工科大學\\nHanyang University Col...</td>\n",
       "    </tr>\n",
       "    <tr>\n",
       "      <th>1</th>\n",
       "      <td>숨고</td>\n",
       "      <td>애플리케이션</td>\n",
       "      <td>숨고는 여러분들이 도움을 필요로 하는 일을 도와줄 고수를 무료로 빠르게 찾아드려요....</td>\n",
       "    </tr>\n",
       "    <tr>\n",
       "      <th>2</th>\n",
       "      <td>트로페오 알프레도 디 스테파노</td>\n",
       "      <td>축구상</td>\n",
       "      <td>2007년 스페인의 언론사인 마르카에서 선정하기 시작한 상으로, 마르카가 선정하는 ...</td>\n",
       "    </tr>\n",
       "    <tr>\n",
       "      <th>3</th>\n",
       "      <td>김용철(1958)</td>\n",
       "      <td>대한민국의 검사 출신 변호사</td>\n",
       "      <td>대한민국의 검사 출신 변호사.\\n\\n삼성그룹의 비자금 운용을 폭로한 것으로 유명하다...</td>\n",
       "    </tr>\n",
       "    <tr>\n",
       "      <th>4</th>\n",
       "      <td>강형욱 직장 내 괴롭힘 폭로 논란/전개</td>\n",
       "      <td>경과</td>\n",
       "      <td>같은 날 JTBC 사건반장에서 해당 논란에 대해 보도했는데 여기에서 2016년 한 ...</td>\n",
       "    </tr>\n",
       "  </tbody>\n",
       "</table>\n",
       "</div>"
      ],
      "text/plain": [
       "                   Title         Category  \\\n",
       "0    한양대학교/서울캠퍼스/학부/공과대학            한양대학교   \n",
       "1                     숨고           애플리케이션   \n",
       "2       트로페오 알프레도 디 스테파노              축구상   \n",
       "3              김용철(1958)  대한민국의 검사 출신 변호사   \n",
       "4  강형욱 직장 내 괴롭힘 폭로 논란/전개               경과   \n",
       "\n",
       "                                             Content  \n",
       "0  한양대학교 공과대학\\n漢陽大學校 工科大學\\nHanyang University Col...  \n",
       "1  숨고는 여러분들이 도움을 필요로 하는 일을 도와줄 고수를 무료로 빠르게 찾아드려요....  \n",
       "2  2007년 스페인의 언론사인 마르카에서 선정하기 시작한 상으로, 마르카가 선정하는 ...  \n",
       "3  대한민국의 검사 출신 변호사.\\n\\n삼성그룹의 비자금 운용을 폭로한 것으로 유명하다...  \n",
       "4  같은 날 JTBC 사건반장에서 해당 논란에 대해 보도했는데 여기에서 2016년 한 ...  "
      ]
     },
     "execution_count": 17,
     "metadata": {},
     "output_type": "execute_result"
    }
   ],
   "source": [
    "df = pd.read_csv('namu.csv',encoding='utf-8-sig',index_col=0)\n",
    "df.head()"
   ]
  },
  {
   "cell_type": "code",
   "execution_count": 18,
   "metadata": {},
   "outputs": [],
   "source": [
    "# 텍스트 글자 전처리 - 한글 이외 모든 문자 제거\n",
    "# 정규표현식\n",
    "def text_cleaning(text):\n",
    "    hangul = re.compile('[^ ㄱ-ㅎ가-힣]')    #[0-9a-zA-Z], [ㄱ-ㅎ가-힣]\n",
    "    result = hangul.sub('',text)\n",
    "    return result\n"
   ]
  },
  {
   "cell_type": "code",
   "execution_count": 19,
   "metadata": {},
   "outputs": [
    {
     "data": {
      "text/plain": [
       "'한양대학교 공과대학     출범년 동아공과학원 설립학장김찬형선봉공대링크한양대학교 공과대학 홈페이지한양대학교 서울캠퍼스의 공과대학에 대해 정리한 문서타 대학은 일반적으로 문과대학이 학교 홈페이지 내의 학과 소개란 가장 앞에 오는 반면에 한양대 서울은 공과대학이 학과 소개의 제일 앞에 위치하고 있다 이는 한양대학교가 동아공과학원에서 시작하여 공대가 역사적 뿌리이기 때문이다 여러모로 한양대학교가 공대를 어떻게 생각하는지 보여주는 부분이하의 개설 학과 목록은 한양대학교 공과대학 공식 사이트에 나오는 순서대로 나열한 것이다한양대학교 공과대학공과대학소프트웨어대학반도체공학과건축학부건축공학부건설환경공학과도시공학과자원환경공학과융합전자공학부전기생체공학부 전기공학전공 바이오메디컬공학전공신소재공학부화학공학과생명공학과유기나노공학과에너지공학과기계공학부원자력공학과산업공학과데이터사이언스학부 데이터사이언스전공 심리뇌과학전공컴퓨터소프트웨어학부정보시스템학과미래자동차공학과'"
      ]
     },
     "execution_count": 19,
     "metadata": {},
     "output_type": "execute_result"
    }
   ],
   "source": [
    "text_cleaning(df['Content'][0])"
   ]
  },
  {
   "cell_type": "code",
   "execution_count": 20,
   "metadata": {},
   "outputs": [],
   "source": [
    "# 각 컬럼별 전처리 작업 진행\n",
    "df['Title'] = df['Title'].apply(lambda x : text_cleaning(x))"
   ]
  },
  {
   "cell_type": "code",
   "execution_count": 21,
   "metadata": {},
   "outputs": [],
   "source": [
    "df['Category'] = df['Category'].apply(lambda x: text_cleaning(x))\n",
    "df['Content'] = df['Content'].apply(lambda x: text_cleaning(x))"
   ]
  },
  {
   "cell_type": "code",
   "execution_count": 22,
   "metadata": {},
   "outputs": [
    {
     "data": {
      "text/html": [
       "<div>\n",
       "<style scoped>\n",
       "    .dataframe tbody tr th:only-of-type {\n",
       "        vertical-align: middle;\n",
       "    }\n",
       "\n",
       "    .dataframe tbody tr th {\n",
       "        vertical-align: top;\n",
       "    }\n",
       "\n",
       "    .dataframe thead th {\n",
       "        text-align: right;\n",
       "    }\n",
       "</style>\n",
       "<table border=\"1\" class=\"dataframe\">\n",
       "  <thead>\n",
       "    <tr style=\"text-align: right;\">\n",
       "      <th></th>\n",
       "      <th>Title</th>\n",
       "      <th>Category</th>\n",
       "      <th>Content</th>\n",
       "    </tr>\n",
       "  </thead>\n",
       "  <tbody>\n",
       "    <tr>\n",
       "      <th>0</th>\n",
       "      <td>한양대학교서울캠퍼스학부공과대학</td>\n",
       "      <td>한양대학교</td>\n",
       "      <td>한양대학교 공과대학     출범년 동아공과학원 설립학장김찬형선봉공대링크한양대학교 공...</td>\n",
       "    </tr>\n",
       "    <tr>\n",
       "      <th>1</th>\n",
       "      <td>숨고</td>\n",
       "      <td>애플리케이션</td>\n",
       "      <td>숨고는 여러분들이 도움을 필요로 하는 일을 도와줄 고수를 무료로 빠르게 찾아드려요숨...</td>\n",
       "    </tr>\n",
       "    <tr>\n",
       "      <th>2</th>\n",
       "      <td>트로페오 알프레도 디 스테파노</td>\n",
       "      <td>축구상</td>\n",
       "      <td>년 스페인의 언론사인 마르카에서 선정하기 시작한 상으로 마르카가 선정하는 라리가 올...</td>\n",
       "    </tr>\n",
       "    <tr>\n",
       "      <th>3</th>\n",
       "      <td>김용철</td>\n",
       "      <td>대한민국의 검사 출신 변호사</td>\n",
       "      <td>대한민국의 검사 출신 변호사삼성그룹의 비자금 운용을 폭로한 것으로 유명하다 한동안 ...</td>\n",
       "    </tr>\n",
       "    <tr>\n",
       "      <th>4</th>\n",
       "      <td>강형욱 직장 내 괴롭힘 폭로 논란전개</td>\n",
       "      <td>경과</td>\n",
       "      <td>같은 날  사건반장에서 해당 논란에 대해 보도했는데 여기에서 년 한 직원에게 퇴사 ...</td>\n",
       "    </tr>\n",
       "  </tbody>\n",
       "</table>\n",
       "</div>"
      ],
      "text/plain": [
       "                  Title         Category  \\\n",
       "0      한양대학교서울캠퍼스학부공과대학            한양대학교   \n",
       "1                    숨고           애플리케이션   \n",
       "2      트로페오 알프레도 디 스테파노              축구상   \n",
       "3                   김용철  대한민국의 검사 출신 변호사   \n",
       "4  강형욱 직장 내 괴롭힘 폭로 논란전개               경과   \n",
       "\n",
       "                                             Content  \n",
       "0  한양대학교 공과대학     출범년 동아공과학원 설립학장김찬형선봉공대링크한양대학교 공...  \n",
       "1  숨고는 여러분들이 도움을 필요로 하는 일을 도와줄 고수를 무료로 빠르게 찾아드려요숨...  \n",
       "2  년 스페인의 언론사인 마르카에서 선정하기 시작한 상으로 마르카가 선정하는 라리가 올...  \n",
       "3  대한민국의 검사 출신 변호사삼성그룹의 비자금 운용을 폭로한 것으로 유명하다 한동안 ...  \n",
       "4  같은 날  사건반장에서 해당 논란에 대해 보도했는데 여기에서 년 한 직원에게 퇴사 ...  "
      ]
     },
     "execution_count": 22,
     "metadata": {},
     "output_type": "execute_result"
    }
   ],
   "source": [
    "df.head()"
   ]
  },
  {
   "cell_type": "code",
   "execution_count": 23,
   "metadata": {},
   "outputs": [
    {
     "data": {
      "text/plain": [
       "'aaa bbb ccc'"
      ]
     },
     "execution_count": 23,
     "metadata": {},
     "output_type": "execute_result"
    }
   ],
   "source": [
    "test_list = ['aaa','bbb','ccc']\n",
    "\" \".join(test_list)"
   ]
  },
  {
   "cell_type": "code",
   "execution_count": 24,
   "metadata": {},
   "outputs": [
    {
     "data": {
      "text/plain": [
       "'한양대학교서울캠퍼스학부공과대학 숨고 트로페오 알프레도 디 스테파노 김용철 강형욱 직장 내 괴롭힘 폭로 논란전개 아산 짜증나요 수원이기고 부천에게 지나요 포홍 갈바트론트랜스포머 시네마틱 유니버스 캣니스 에버딘 작은 거인하이큐 후생노동성 사쿠라자카굿즈생사진 페이퍼 마리오 년의 문 틀빛나는 별 아컴호러 카드게임플레이어 카드인스머스에 드리운 음모 숨고 진해성 갈바트론트랜스포머 시네마틱 유니버스 손승익 한양대학교서울캠퍼스학부공과대학 공산주의 숨고 라리가 어워즈 기라 조폭인 내가 고등학생이 되었습니다드라마 갈바트론트랜스포머 시네마틱 유니버스 인사이드 아웃 윤종용 마테이스 더리흐트 진해성 우르갈 화성시 갑 정하에코하임 알렉스 베시아선수 경력 김승현 안피디의 스포일러 틀빛나는 별 갈바트론트랜스포머 시네마틱 유니버스 홍천군 에픽세븐영웅 옹알이 해신 요시노 준페이 손승익 슈퍼 마리오 오디세이등장인물 조폭인 내가 고등학생이 되었습니다드라마 틀영국군원수 육조류 생물 목록 비토리아 세레티  이벤트아크틱 서머 월드 칼데아 한여름의 마원관광 진해성  애니메이티드 유니버스'"
      ]
     },
     "execution_count": 24,
     "metadata": {},
     "output_type": "execute_result"
    }
   ],
   "source": [
    "title_corp = \" \".join(df['Title'].to_list())\n",
    "title_corp"
   ]
  },
  {
   "cell_type": "code",
   "execution_count": 25,
   "metadata": {},
   "outputs": [],
   "source": [
    "category_corp = \" \".join(df['Category'].to_list())\n",
    "content_corp = \" \".join(df['Content'].to_list())"
   ]
  },
  {
   "cell_type": "code",
   "execution_count": 26,
   "metadata": {},
   "outputs": [],
   "source": [
    "from konlpy.tag import Okt\n",
    "from collections import Counter"
   ]
  },
  {
   "cell_type": "code",
   "execution_count": 27,
   "metadata": {},
   "outputs": [
    {
     "ename": "SystemError",
     "evalue": "java.lang.UnsatisfiedLinkError: Native Library C:\\Python312\\Lib\\site-packages\\_jpype.cp312-win_amd64.pyd already loaded in another classloader",
     "output_type": "error",
     "traceback": [
      "\u001b[1;31m---------------------------------------------------------------------------\u001b[0m",
      "\u001b[1;31mSystemError\u001b[0m                               Traceback (most recent call last)",
      "Cell \u001b[1;32mIn[27], line 2\u001b[0m\n\u001b[0;32m      1\u001b[0m \u001b[38;5;66;03m# 명사 단위 키워드 추출\u001b[39;00m\n\u001b[1;32m----> 2\u001b[0m nouns_tagger \u001b[38;5;241m=\u001b[39m \u001b[43mOkt\u001b[49m\u001b[43m(\u001b[49m\u001b[43m)\u001b[49m\n\u001b[0;32m      3\u001b[0m nouns \u001b[38;5;241m=\u001b[39m nouns_tagger\u001b[38;5;241m.\u001b[39mnouns(content_corp)\n",
      "File \u001b[1;32mc:\\Python312\\Lib\\site-packages\\konlpy\\tag\\_okt.py:87\u001b[0m, in \u001b[0;36mOkt.__init__\u001b[1;34m(self, jvmpath, max_heap_size)\u001b[0m\n\u001b[0;32m     85\u001b[0m \u001b[38;5;28;01mdef\u001b[39;00m \u001b[38;5;21m__init__\u001b[39m(\u001b[38;5;28mself\u001b[39m, jvmpath\u001b[38;5;241m=\u001b[39m\u001b[38;5;28;01mNone\u001b[39;00m, max_heap_size\u001b[38;5;241m=\u001b[39m\u001b[38;5;241m1024\u001b[39m):\n\u001b[0;32m     86\u001b[0m     \u001b[38;5;28;01mif\u001b[39;00m \u001b[38;5;129;01mnot\u001b[39;00m jpype\u001b[38;5;241m.\u001b[39misJVMStarted():\n\u001b[1;32m---> 87\u001b[0m         \u001b[43mjvm\u001b[49m\u001b[38;5;241;43m.\u001b[39;49m\u001b[43minit_jvm\u001b[49m\u001b[43m(\u001b[49m\u001b[43mjvmpath\u001b[49m\u001b[43m,\u001b[49m\u001b[43m \u001b[49m\u001b[43mmax_heap_size\u001b[49m\u001b[43m)\u001b[49m\n\u001b[0;32m     89\u001b[0m     oktJavaPackage \u001b[38;5;241m=\u001b[39m jpype\u001b[38;5;241m.\u001b[39mJPackage(\u001b[38;5;124m'\u001b[39m\u001b[38;5;124mkr.lucypark.okt\u001b[39m\u001b[38;5;124m'\u001b[39m)\n\u001b[0;32m     90\u001b[0m     OktInterfaceJavaClass \u001b[38;5;241m=\u001b[39m oktJavaPackage\u001b[38;5;241m.\u001b[39mOktInterface\n",
      "File \u001b[1;32mc:\\Python312\\Lib\\site-packages\\konlpy\\jvm.py:64\u001b[0m, in \u001b[0;36minit_jvm\u001b[1;34m(jvmpath, max_heap_size)\u001b[0m\n\u001b[0;32m     61\u001b[0m     jvmpath \u001b[38;5;241m=\u001b[39m \u001b[38;5;124m'\u001b[39m\u001b[38;5;132;01m%s\u001b[39;00m\u001b[38;5;124m/lib/jli/libjli.dylib\u001b[39m\u001b[38;5;124m'\u001b[39m \u001b[38;5;241m%\u001b[39m jvmpath\u001b[38;5;241m.\u001b[39msplit(\u001b[38;5;124m'\u001b[39m\u001b[38;5;124m/lib/\u001b[39m\u001b[38;5;124m'\u001b[39m)[\u001b[38;5;241m0\u001b[39m]\n\u001b[0;32m     63\u001b[0m \u001b[38;5;28;01mif\u001b[39;00m jvmpath:\n\u001b[1;32m---> 64\u001b[0m     \u001b[43mjpype\u001b[49m\u001b[38;5;241;43m.\u001b[39;49m\u001b[43mstartJVM\u001b[49m\u001b[43m(\u001b[49m\u001b[43mjvmpath\u001b[49m\u001b[43m,\u001b[49m\u001b[43m \u001b[49m\u001b[38;5;124;43m'\u001b[39;49m\u001b[38;5;124;43m-Djava.class.path=\u001b[39;49m\u001b[38;5;132;43;01m%s\u001b[39;49;00m\u001b[38;5;124;43m'\u001b[39;49m\u001b[43m \u001b[49m\u001b[38;5;241;43m%\u001b[39;49m\u001b[43m \u001b[49m\u001b[43mclasspath\u001b[49m\u001b[43m,\u001b[49m\n\u001b[0;32m     65\u001b[0m \u001b[43m                            \u001b[49m\u001b[38;5;124;43m'\u001b[39;49m\u001b[38;5;124;43m-Dfile.encoding=UTF8\u001b[39;49m\u001b[38;5;124;43m'\u001b[39;49m\u001b[43m,\u001b[49m\n\u001b[0;32m     66\u001b[0m \u001b[43m                            \u001b[49m\u001b[38;5;124;43m'\u001b[39;49m\u001b[38;5;124;43m-ea\u001b[39;49m\u001b[38;5;124;43m'\u001b[39;49m\u001b[43m,\u001b[49m\u001b[43m \u001b[49m\u001b[38;5;124;43m'\u001b[39;49m\u001b[38;5;124;43m-Xmx\u001b[39;49m\u001b[38;5;132;43;01m{}\u001b[39;49;00m\u001b[38;5;124;43mm\u001b[39;49m\u001b[38;5;124;43m'\u001b[39;49m\u001b[38;5;241;43m.\u001b[39;49m\u001b[43mformat\u001b[49m\u001b[43m(\u001b[49m\u001b[43mmax_heap_size\u001b[49m\u001b[43m)\u001b[49m\u001b[43m)\u001b[49m\n\u001b[0;32m     67\u001b[0m \u001b[38;5;28;01melse\u001b[39;00m:\n\u001b[0;32m     68\u001b[0m     \u001b[38;5;28;01mraise\u001b[39;00m \u001b[38;5;167;01mValueError\u001b[39;00m(\u001b[38;5;124m\"\u001b[39m\u001b[38;5;124mPlease specify the JVM path.\u001b[39m\u001b[38;5;124m\"\u001b[39m)\n",
      "File \u001b[1;32mc:\\Python312\\Lib\\site-packages\\jpype\\_core.py:247\u001b[0m, in \u001b[0;36mstartJVM\u001b[1;34m(jvmpath, classpath, ignoreUnrecognized, convertStrings, interrupt, *jvmargs)\u001b[0m\n\u001b[0;32m    245\u001b[0m prior \u001b[38;5;241m=\u001b[39m [locale\u001b[38;5;241m.\u001b[39mgetlocale(i) \u001b[38;5;28;01mfor\u001b[39;00m i \u001b[38;5;129;01min\u001b[39;00m categories]\n\u001b[0;32m    246\u001b[0m \u001b[38;5;66;03m# Start the JVM\u001b[39;00m\n\u001b[1;32m--> 247\u001b[0m \u001b[43m_jpype\u001b[49m\u001b[38;5;241;43m.\u001b[39;49m\u001b[43mstartup\u001b[49m\u001b[43m(\u001b[49m\u001b[43mjvmpath\u001b[49m\u001b[43m,\u001b[49m\u001b[43m \u001b[49m\u001b[43mjvmargs\u001b[49m\u001b[43m \u001b[49m\u001b[38;5;241;43m+\u001b[39;49m\u001b[43m \u001b[49m\u001b[43mextra_jvm_args\u001b[49m\u001b[43m,\u001b[49m\n\u001b[0;32m    248\u001b[0m \u001b[43m               \u001b[49m\u001b[43mignoreUnrecognized\u001b[49m\u001b[43m,\u001b[49m\u001b[43m \u001b[49m\u001b[43mconvertStrings\u001b[49m\u001b[43m,\u001b[49m\u001b[43m \u001b[49m\u001b[43minterrupt\u001b[49m\u001b[43m)\u001b[49m\n\u001b[0;32m    249\u001b[0m \u001b[38;5;66;03m# Collect required resources for operation\u001b[39;00m\n\u001b[0;32m    250\u001b[0m initializeResources()\n",
      "\u001b[1;31mSystemError\u001b[0m: java.lang.UnsatisfiedLinkError: Native Library C:\\Python312\\Lib\\site-packages\\_jpype.cp312-win_amd64.pyd already loaded in another classloader"
     ]
    }
   ],
   "source": [
    "# 명사 단위 키워드 추출\n",
    "nouns_tagger = Okt()\n",
    "nouns = nouns_tagger.nouns(content_corp)"
   ]
  },
  {
   "cell_type": "code",
   "execution_count": null,
   "metadata": {},
   "outputs": [],
   "source": [
    "# 출현 빈도수 확인\n",
    "Counter(nouns)"
   ]
  }
 ],
 "metadata": {
  "kernelspec": {
   "display_name": "Python 3",
   "language": "python",
   "name": "python3"
  },
  "language_info": {
   "codemirror_mode": {
    "name": "ipython",
    "version": 3
   },
   "file_extension": ".py",
   "mimetype": "text/x-python",
   "name": "python",
   "nbconvert_exporter": "python",
   "pygments_lexer": "ipython3",
   "version": "3.12.0"
  }
 },
 "nbformat": 4,
 "nbformat_minor": 2
}
