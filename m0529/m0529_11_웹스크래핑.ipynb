{
 "cells": [
  {
   "cell_type": "code",
   "execution_count": 1,
   "metadata": {},
   "outputs": [],
   "source": [
    "import requests\n",
    "import random\n",
    "import time\n",
    "from bs4 import BeautifulSoup\n",
    "from selenium import webdriver\n",
    "from selenium.webdriver.common.by import By\n",
    "from selenium.webdriver.common.keys import Keys\n",
    "# 화면이 나타나는 것을 확인\n",
    "from selenium.webdriver.support.ui import WebDriverWait\n",
    "from selenium.webdriver.support import expected_conditions as EC\n",
    "import pyautogui\n",
    "\n",
    "headers = {\"User-Agent\":\"Mozilla/5.0 (Windows NT 10.0; Win64; x64) AppleWebKit/537.36 (KHTML, like Gecko) Chrome/124.0.0.0 Safari/537.36\",\"Accep-Language\":\"ko-KR,ko;q=0.9,en-US;q=0.8,en;q=0.7\"}\n",
    "url = \"https://namu.wiki/RecentChanges\""
   ]
  },
  {
   "cell_type": "code",
   "execution_count": 2,
   "metadata": {},
   "outputs": [],
   "source": [
    "# 브라우저 열기\n",
    "browser = webdriver.Chrome()\n",
    "browser.maximize_window()\n",
    "browser.get(url)"
   ]
  },
  {
   "cell_type": "code",
   "execution_count": 3,
   "metadata": {},
   "outputs": [],
   "source": [
    "# 데이터 불러오기 - 파일저장\n",
    "soup = BeautifulSoup(browser.page_source,\"lxml\")\n",
    "# with open(\"test.html\",\"w\",encoding=\"utf8\") as f:\n",
    "#     f.write(soup.prettify())   "
   ]
  },
  {
   "cell_type": "code",
   "execution_count": 4,
   "metadata": {},
   "outputs": [],
   "source": [
    "# 표부분 전체 위치 값 찾기\n",
    "section = soup.find(\"div\",{\"class\":\"aunJwsbN\"})"
   ]
  },
  {
   "cell_type": "code",
   "execution_count": 5,
   "metadata": {},
   "outputs": [],
   "source": [
    "lists = section.find_all(\"div\",{\"class\":\"b5G6-Ki+\"})"
   ]
  },
  {
   "cell_type": "code",
   "execution_count": 6,
   "metadata": {},
   "outputs": [
    {
     "data": {
      "text/plain": [
       "101"
      ]
     },
     "execution_count": 6,
     "metadata": {},
     "output_type": "execute_result"
    }
   ],
   "source": [
    "len(lists)"
   ]
  },
  {
   "cell_type": "code",
   "execution_count": 7,
   "metadata": {},
   "outputs": [
    {
     "data": {
      "text/plain": [
       "'/w/%ED%82%A4%EC%9E%A1'"
      ]
     },
     "execution_count": 7,
     "metadata": {},
     "output_type": "execute_result"
    }
   ],
   "source": [
    "lists[1].a['href']"
   ]
  },
  {
   "cell_type": "code",
   "execution_count": 8,
   "metadata": {},
   "outputs": [
    {
     "name": "stdout",
     "output_type": "stream",
     "text": [
      "완료\n"
     ]
    }
   ],
   "source": [
    "urls = []\n",
    "for i in range(1,len(lists)):\n",
    "    urls.append(\"https://namu.wiki\"+lists[i].a['href'])\n",
    "print(\"완료\")    "
   ]
  },
  {
   "cell_type": "code",
   "execution_count": 9,
   "metadata": {},
   "outputs": [
    {
     "data": {
      "text/plain": [
       "['https://namu.wiki/w/%ED%82%A4%EC%9E%A1',\n",
       " 'https://namu.wiki/w/%EC%84%B1%ED%8F%AD%ED%96%89',\n",
       " 'https://namu.wiki/w/%EC%A2%85%ED%95%A9%EA%B2%A9%ED%88%AC%EA%B8%B0',\n",
       " 'https://namu.wiki/w/%EC%B4%89%EC%B4%89%EC%8B%9C%EB%8C%80',\n",
       " 'https://namu.wiki/w/BanG%20Dream!/%EC%9D%8C%EB%B0%98/%EC%BB%A4%EB%B2%84%EA%B3%A1%20%EA%B4%80%EB%A0%A8%20%EC%9D%8C%EB%B0%98',\n",
       " 'https://namu.wiki/w/%EC%9D%B4%EC%B8%A0%ED%82%A4%20%EC%8A%88',\n",
       " 'https://namu.wiki/w/%EB%B0%95%EB%B3%91%ED%98%B8%20%E2%86%94%20%EC%98%A4%EC%9E%AC%EC%9D%BC%20%ED%8A%B8%EB%A0%88%EC%9D%B4%EB%93%9C',\n",
       " 'https://namu.wiki/w/%ED%98%84%EB%8C%80%20%EC%97%91%EC%84%BC%ED%8A%B8',\n",
       " 'https://namu.wiki/w/%EC%9C%A0%EB%A8%B8%201%EB%B2%88%EC%A7%80',\n",
       " 'https://namu.wiki/w/%EB%8C%80%ED%95%9C%EB%AF%BC%EA%B5%AD%20%EC%95%BC%EA%B5%AC%20%EA%B5%AD%EA%B0%80%EB%8C%80%ED%91%9C%ED%8C%80/%EB%85%BC%EB%9E%80',\n",
       " 'https://namu.wiki/w/%ED%83%80%EA%B0%80%EC%8B%9C%EB%9D%BC%20%EC%8B%9C%EB%85%B8%EB%B6%80',\n",
       " 'https://namu.wiki/w/%EC%84%B1%EC%9D%B8%EC%9A%A9%ED%92%88',\n",
       " 'https://namu.wiki/w/%ED%98%84%EB%8C%80%20%EC%97%91%EC%84%BC%ED%8A%B8',\n",
       " 'https://namu.wiki/w/%ED%93%A8%EB%A6%AC%EC%98%A4%EC%82%AC:%20%EB%A7%A4%EB%93%9C%EB%A7%A5%EC%8A%A4%20%EC%82%AC%EA%B0%80',\n",
       " 'https://namu.wiki/w/%EB%A7%A4%EB%93%9C%20%EC%B9%B4%EB%A5%B4%ED%85%94',\n",
       " 'https://namu.wiki/w/%ED%95%98%EC%8A%A4%EC%8A%A4%ED%86%A4/%EC%B9%B4%EB%93%9C%EC%9D%BC%EB%9E%8C/%EC%A0%84%EC%9E%A5%20%EC%A0%84%EC%9A%A9/4%EB%8B%A8%EA%B3%84',\n",
       " 'https://namu.wiki/w/%EC%9D%B4%EB%82%98%EB%9D%BC(1988)',\n",
       " 'https://namu.wiki/w/%EB%8B%A4%EB%A5%B4%EC%BD%94',\n",
       " 'https://namu.wiki/w/%EB%A7%88%EB%A6%AC%20%EC%95%99%ED%88%AC%EC%95%84%EB%84%A4%ED%8A%B8(%EB%B2%A0%EB%A5%B4%EC%82%AC%EC%9D%B4%EC%9C%A0%EC%9D%98%20%EC%9E%A5%EB%AF%B8)',\n",
       " 'https://namu.wiki/w/BanG%20Dream!/%EC%9D%8C%EB%B0%98/%EC%A0%95%EA%B7%9C%20%EC%9D%8C%EB%B0%98',\n",
       " 'https://namu.wiki/w/%EA%B9%8C%EB%A7%88%EA%B7%80%20%EB%8F%84%EB%A5%99%EC%9E%90',\n",
       " 'https://namu.wiki/w/%EC%9B%90%EC%BD%94%EC%9D%B8%20%ED%81%B4%EB%A6%AC%EC%96%B4%EB%A5%BC%20%ED%96%A5%ED%95%98%EC%97%AC',\n",
       " 'https://namu.wiki/w/%EB%8B%B9%EB%82%98%EA%B7%80(%ED%98%B9%EC%84%B1%ED%83%88%EC%B6%9C%20%EC%8B%9C%EB%A6%AC%EC%A6%88)',\n",
       " 'https://namu.wiki/w/%EB%B6%80%EB%81%84%EB%9F%AC%EC%9A%B4%20%EB%93%AF%ED%95%9C%20%ED%91%9C%EC%A0%95%EC%9C%BC%EB%A1%9C%20%EA%B0%80%EC%8A%B4%20%EB%B3%B4%EC%97%AC%EC%A4%AC%EC%9C%BC%EB%A9%B4%20%EC%A2%8B%EA%B2%A0%EC%96%B4',\n",
       " 'https://namu.wiki/w/%EC%A2%85%EB%AA%85%EC%9E%90',\n",
       " 'https://namu.wiki/w/%ED%95%98%EC%8A%A4%EC%8A%A4%ED%86%A4/%EC%B9%B4%EB%93%9C%EC%9D%BC%EB%9E%8C/%EC%A0%84%EC%9E%A5%20%EC%A0%84%EC%9A%A9/4%EB%8B%A8%EA%B3%84',\n",
       " 'https://namu.wiki/w/%EC%A0%9C22%EB%8C%80%20%EA%B5%AD%ED%9A%8C%EC%9D%98%EC%9B%90%20%EC%84%A0%EA%B1%B0/%ED%9B%84%EB%B3%B4%EC%9E%90/%EC%A1%B0%EA%B5%AD%ED%98%81%EC%8B%A0%EB%8B%B9',\n",
       " 'https://namu.wiki/w/%EB%B3%80%EC%83%81%EC%9D%BC',\n",
       " 'https://namu.wiki/w/%EC%9E%85%EC%8A%A4%EC%9C%84%EC%B9%98%20%ED%83%80%EC%9A%B4%20FC',\n",
       " 'https://namu.wiki/w/%EB%B8%94%EB%A1%AD(%EB%A0%88%EC%9D%B8%EB%B3%B4%EC%9A%B0%20%EB%B2%84%EB%B8%94%EC%A0%AC)',\n",
       " 'https://namu.wiki/w/How%20Sweet',\n",
       " 'https://namu.wiki/w/%ED%94%8C%EB%A0%88%EC%9D%B4%EC%96%B42:%20%EA%BE%BC%EB%93%A4%EC%9D%98%20%EC%A0%84%EC%9F%81/%EB%93%B1%EC%9E%A5%EC%9D%B8%EB%AC%BC',\n",
       " 'https://namu.wiki/w/%EA%B9%80%EA%B7%BC%EC%9C%A1%20%EC%8B%9C%EB%A6%AC%EC%A6%88/%EC%97%90%ED%94%BC%EC%86%8C%EB%93%9C%20%EB%AA%A9%EB%A1%9D/%EC%9E%A5%ED%8E%B8%20%EC%97%90%ED%94%BC%EC%86%8C%EB%93%9C',\n",
       " 'https://namu.wiki/w/%EC%99%95%EB%B9%84%20%EA%B5%90%EC%9C%A1%EC%97%90%EC%84%9C%20%EB%8F%84%EB%A7%9D%EC%B9%98%EA%B3%A0%20%EC%8B%B6%EC%9D%80%20%EB%82%98/%EC%95%A0%EB%8B%88%EB%A9%94%EC%9D%B4%EC%85%98',\n",
       " 'https://namu.wiki/w/%ED%8B%80:%EB%A1%A4%EB%9F%AC%EC%BD%94%EC%8A%A4%ED%84%B0/%EB%8C%80%ED%95%9C%EB%AF%BC%EA%B5%AD',\n",
       " 'https://namu.wiki/w/BanG%20Dream!/%EC%9D%8C%EB%B0%98/%EB%B9%84%EC%A0%95%EA%B7%9C%20%EC%9D%8C%EB%B0%98/%EB%94%94%EC%A7%80%ED%84%B8%20%EC%8B%B1%EA%B8%80',\n",
       " 'https://namu.wiki/w/%ED%99%A9%EB%AF%BC%ED%98%84/%EC%96%B4%EB%A1%9D%20%EB%B0%8F%20%ED%8F%89%EA%B0%80',\n",
       " 'https://namu.wiki/w/%EB%B3%80%EC%83%81%EC%9D%BC',\n",
       " 'https://namu.wiki/w/%EC%B9%B4%EC%97%98%EB%9D%BC%20%EC%BD%94%EB%B0%9C%EC%8A%A4%ED%82%A4%EC%95%84/%EB%B0%A9%EC%86%A1%20%EC%9D%BC%ED%99%94',\n",
       " 'https://namu.wiki/w/%EC%98%81%EC%83%81%ED%88%B0',\n",
       " 'https://namu.wiki/w/%EC%8B%9C%ED%81%B4%EB%A6%AC%EB%93%9C',\n",
       " 'https://namu.wiki/w/%EC%A0%95%EC%9D%98%EB%8B%B9',\n",
       " 'https://namu.wiki/w/%EC%86%94%EB%8B%A5',\n",
       " 'https://namu.wiki/w/%EB%B3%80%EC%83%81%EC%9D%BC',\n",
       " 'https://namu.wiki/w/%EC%84%9C%EC%9A%B8%20%EB%B2%84%EC%8A%A4%20%EC%84%9C%EC%9A%B803',\n",
       " 'https://namu.wiki/w/%EB%8F%99%EC%A1%B0%EC%9E%90/%EB%93%B1%EC%9E%A5%EC%9D%B8%EB%AC%BC',\n",
       " 'https://namu.wiki/w/%ED%8B%80:%EC%98%81%EA%B5%AD%EA%B5%B0/%EC%9B%90%EC%88%98',\n",
       " 'https://namu.wiki/w/%ED%93%A8%EB%A6%AC%EC%98%A4%EC%82%AC:%20%EB%A7%A4%EB%93%9C%EB%A7%A5%EC%8A%A4%20%EC%82%AC%EA%B0%80',\n",
       " 'https://namu.wiki/w/%ED%98%84%EB%8C%80%20%EB%B2%A0%EB%A5%B4%EB%82%98(YC)',\n",
       " 'https://namu.wiki/w/%EC%BD%94%EB%A1%9C%EB%82%98%EB%B0%94%EC%9D%B4%EB%9F%AC%EC%8A%A4%EA%B0%90%EC%97%BC%EC%A6%9D-19/%EB%B0%B1%EC%8B%A0/%EB%8C%80%ED%95%9C%EB%AF%BC%EA%B5%AD/%ED%98%84%ED%99%A9',\n",
       " 'https://namu.wiki/w/%EC%B2%AB%EC%82%AC%EB%9E%91(%EC%95%84%EC%9D%B4%EB%8F%8C)',\n",
       " 'https://namu.wiki/w/%EB%A1%9C%EC%9D%B4%EB%93%9C%20%EB%B2%A4%EC%8A%A8',\n",
       " 'https://namu.wiki/w/%EC%9D%B4%EB%82%98%EB%9D%BC(1988)',\n",
       " 'https://namu.wiki/w/%EB%B0%B1%EC%84%A0%ED%9D%AC',\n",
       " 'https://namu.wiki/w/%ED%99%8D%EC%A2%85%ED%98%84',\n",
       " 'https://namu.wiki/w/Blox%20Fruits/%EC%9A%94%EC%86%8C',\n",
       " 'https://namu.wiki/w/%ED%95%98%EC%8A%A4%EC%8A%A4%ED%86%A4/%EC%B9%B4%EB%93%9C%EC%9D%BC%EB%9E%8C/%EC%A0%84%EC%9E%A5%20%EC%A0%84%EC%9A%A9/3%EB%8B%A8%EA%B3%84',\n",
       " 'https://namu.wiki/w/%EB%B2%84%EC%B8%84%EC%96%BC%20%EC%9C%A0%ED%8A%9C%EB%B2%84/%EB%AA%A9%EB%A1%9D',\n",
       " 'https://namu.wiki/w/Jumper(Waterflame)',\n",
       " 'https://namu.wiki/w/%EC%84%B1%EC%9D%B8%EC%9A%A9%ED%92%88',\n",
       " 'https://namu.wiki/w/%EB%93%9C%EB%9D%BC%EC%9D%B4%EB%B8%8C(2024%EB%85%84%204%EC%9B%94%20%EC%98%81%ED%99%94)',\n",
       " 'https://namu.wiki/w/%EC%84%9C%EC%9A%B8%20%EB%B2%84%EC%8A%A4%20%EC%84%9C%EC%9A%B803',\n",
       " 'https://namu.wiki/w/%ED%99%8D%EC%88%98',\n",
       " 'https://namu.wiki/w/%EC%97%BC%EC%8A%B9%ED%99%98',\n",
       " 'https://namu.wiki/w/%EB%B3%80%EC%83%81%EC%9D%BC',\n",
       " 'https://namu.wiki/w/%EB%A6%AC%EC%8D%B0%EC%BB%B4%ED%8D%BC%EB%8B%88(%EA%B9%80%EA%B7%BC%EC%9C%A1%20%EC%8B%9C%EB%A6%AC%EC%A6%88)',\n",
       " 'https://namu.wiki/w/Limbus%20Company/%EA%B1%B0%EC%9A%B8%20%EB%8D%98%EC%A0%84',\n",
       " 'https://namu.wiki/w/%EA%B6%8C%EB%8C%80%EA%B1%B4',\n",
       " 'https://namu.wiki/w/%ED%98%9C%EC%A7%84(%EC%9D%B4%ED%84%B0%EB%84%90%20%EB%A6%AC%ED%84%B4)',\n",
       " 'https://namu.wiki/w/%EB%B3%80%EC%83%81%EC%9D%BC',\n",
       " 'https://namu.wiki/w/%EC%A0%A4%EB%8B%A4%EC%9D%98%20%EC%A0%84%EC%84%A4%20%EC%8B%9C%EB%A6%AC%EC%A6%88/%EB%AF%B8%EB%94%94%EC%96%B4%20%EB%AF%B9%EC%8A%A4',\n",
       " 'https://namu.wiki/w/%EC%88%98%EC%9E%85%EC%B0%A8',\n",
       " 'https://namu.wiki/w/%EC%A0%9C2%EC%B0%A8%20%EC%84%B8%EA%B3%84%20%EB%8C%80%EC%A0%84',\n",
       " 'https://namu.wiki/w/%EB%A6%BC%EC%9B%94%EB%93%9C/%EB%AA%A8%EB%93%9C',\n",
       " 'https://namu.wiki/w/Weeekly/%EC%BD%98%ED%85%90%EC%B8%A0',\n",
       " 'https://namu.wiki/w/SL%20%EB%B2%A4%ED%94%BC%EC%B9%B4/1972-73%20%EC%8B%9C%EC%A6%8C',\n",
       " 'https://namu.wiki/w/%ED%8F%AC%ED%95%AD%20%EC%8A%A4%ED%8B%B8%EB%9F%AC%EC%8A%A4/2024%EB%85%84',\n",
       " 'https://namu.wiki/w/%EB%AF%B8%EC%A7%80%EC%99%80%EC%9D%98%20%EC%A1%B0%EC%9A%B0',\n",
       " 'https://namu.wiki/w/%EB%AA%85%EC%9D%BC%EB%B0%A9%EC%A3%BC/%ED%8F%AC%EC%A7%80%EC%85%98/%EA%B0%80%EB%93%9C',\n",
       " 'https://namu.wiki/w/%EB%A3%AC%EC%9D%98%20%EC%95%84%EC%9D%B4%EB%93%A4%20%EB%B8%94%EB%9F%AC%EB%94%94%EB%93%9C',\n",
       " 'https://namu.wiki/w/%ED%94%84%EB%A1%9C%EC%A0%9D%ED%8A%B8%20%EB%AC%B8%20%EB%B6%80%EB%8B%B9%ED%95%B4%EA%B3%A0%20%EC%82%AC%EA%B1%B4',\n",
       " 'https://namu.wiki/w/%EB%A6%BC%EB%B2%84%EC%8A%A4%20%EC%BB%B4%ED%8D%BC%EB%8B%88%20%EC%9B%90%ED%99%94%EA%B0%80%20%ED%8A%B8%EC%9C%84%ED%84%B0%20%EB%82%A8%EC%84%B1%ED%98%90%EC%98%A4%20%EB%85%BC%EB%9E%80',\n",
       " 'https://namu.wiki/w/%ED%95%98%EC%8A%A4%EC%8A%A4%ED%86%A4/%EC%B9%B4%EB%93%9C%EC%9D%BC%EB%9E%8C/%EC%A0%84%EC%9E%A5%20%EC%A0%84%EC%9A%A9/3%EB%8B%A8%EA%B3%84',\n",
       " 'https://namu.wiki/w/%EC%9D%B4%EB%82%98%EB%9D%BC(1988)',\n",
       " 'https://namu.wiki/w/%ED%9E%90%EC%8A%A4%ED%85%8C%EC%9D%B4%ED%8A%B8',\n",
       " 'https://namu.wiki/w/%EB%B3%80%EC%83%81%EC%9D%BC',\n",
       " 'https://namu.wiki/w/%EA%B9%80%EB%98%98%EB%98%98',\n",
       " 'https://namu.wiki/w/%EB%AF%B8%EC%8A%A4%ED%84%B0%20%EA%B2%83%EC%8B%9C',\n",
       " 'https://namu.wiki/w/%EC%86%A1%EC%B0%BD%EC%A7%84',\n",
       " 'https://namu.wiki/w/%EC%95%88%EB%82%98%ED%98%84',\n",
       " 'https://namu.wiki/w/%EA%B6%8C%EC%98%81%EC%84%B8',\n",
       " 'https://namu.wiki/w/%EB%A3%AC%EC%9D%98%20%EC%95%84%EC%9D%B4%EB%93%A4%20%EB%B8%94%EB%9F%AC%EB%94%94%EB%93%9C',\n",
       " 'https://namu.wiki/w/%EB%8B%A4%EC%9D%8C%EC%BB%A4%EB%AE%A4%EB%8B%88%EC%BC%80%EC%9D%B4%EC%85%98',\n",
       " 'https://namu.wiki/w/%ED%8B%80:%EA%B9%80%EC%A4%80%EC%88%98(JYJ)',\n",
       " 'https://namu.wiki/w/%EC%8A%A4%ED%94%84%EB%A7%81%ED%95%84%EB%93%9C%20M1861',\n",
       " 'https://namu.wiki/w/%EC%A7%80%EC%A0%A4(aespa)',\n",
       " 'https://namu.wiki/w/%E9%82%82%E9%80%85',\n",
       " 'https://namu.wiki/w/%ED%99%8D%EC%A2%85%ED%98%84',\n",
       " 'https://namu.wiki/w/%ED%95%98%EC%8A%A4%EC%8A%A4%ED%86%A4/%EC%B9%B4%EB%93%9C%EC%9D%BC%EB%9E%8C/%EC%A0%84%EC%9E%A5%20%EC%A0%84%EC%9A%A9/3%EB%8B%A8%EA%B3%84',\n",
       " 'https://namu.wiki/w/1998%20FIFA%20%EC%9B%94%EB%93%9C%EC%BB%B5%20%ED%94%84%EB%9E%91%EC%8A%A4/8%EA%B0%95']"
      ]
     },
     "execution_count": 9,
     "metadata": {},
     "output_type": "execute_result"
    }
   ],
   "source": [
    "urls"
   ]
  },
  {
   "cell_type": "markdown",
   "metadata": {},
   "source": [
    "#### 상세페이지 내 title,category,content"
   ]
  },
  {
   "cell_type": "code",
   "execution_count": 10,
   "metadata": {},
   "outputs": [],
   "source": [
    "# 상세페이지 title,category,content 가져오기 예시\n",
    "url = 'https://namu.wiki/w/%EA%B9%80%EB%AF%BC%EC%9E%AC'\n",
    "res = requests.get(url)\n",
    "res.raise_for_status()\n",
    "# 데이터 불러오기\n",
    "soup = BeautifulSoup(res.text,'lxml')"
   ]
  },
  {
   "cell_type": "code",
   "execution_count": 11,
   "metadata": {},
   "outputs": [
    {
     "data": {
      "text/plain": [
       "'김민재'"
      ]
     },
     "execution_count": 11,
     "metadata": {},
     "output_type": "execute_result"
    }
   ],
   "source": [
    "# title\n",
    "title = soup.find(\"a\",{\"class\":\"wldOEh2w\"}).text\n",
    "title"
   ]
  },
  {
   "cell_type": "code",
   "execution_count": 12,
   "metadata": {},
   "outputs": [
    {
     "data": {
      "text/plain": [
       "'김민재'"
      ]
     },
     "execution_count": 12,
     "metadata": {},
     "output_type": "execute_result"
    }
   ],
   "source": [
    "category = soup.find(\"li\",{\"class\":\"_5YOCljOj\"}).text\n",
    "category"
   ]
  },
  {
   "cell_type": "code",
   "execution_count": 13,
   "metadata": {},
   "outputs": [],
   "source": [
    "contents = soup.find(\"div\",{\"class\":\"URRHzM+F\"})"
   ]
  },
  {
   "cell_type": "code",
   "execution_count": 14,
   "metadata": {},
   "outputs": [
    {
     "name": "stdout",
     "output_type": "stream",
     "text": [
      "대한민국 국적의 FC 바이에른 뮌헨 소속 축구 선수. 포지션은 센터백이다.22-23 시즌 SSC 나폴리에서의 뛰어난 활약으로 33년 만에 팀의 세리에 A 우승을 이끌며 세리에 A 올해의 팀과 세리에 A 최우수 수비수를 수상했다.\n"
     ]
    }
   ],
   "source": [
    "# 개요의 부모를 찾아서, 다음형제로 이동\n",
    "cont = contents.find(\"span\",{\"id\":\"개요\"}).parent.nextSibling.text\n",
    "print(cont)"
   ]
  }
 ],
 "metadata": {
  "kernelspec": {
   "display_name": "Python 3",
   "language": "python",
   "name": "python3"
  },
  "language_info": {
   "codemirror_mode": {
    "name": "ipython",
    "version": 3
   },
   "file_extension": ".py",
   "mimetype": "text/x-python",
   "name": "python",
   "nbconvert_exporter": "python",
   "pygments_lexer": "ipython3",
   "version": "3.12.0"
  }
 },
 "nbformat": 4,
 "nbformat_minor": 2
}
