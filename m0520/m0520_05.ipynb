{
 "cells": [
  {
   "cell_type": "code",
   "execution_count": 12,
   "metadata": {},
   "outputs": [
    {
     "name": "stdout",
     "output_type": "stream",
     "text": [
      "매칭 되지 않았습니다.\n"
     ]
    }
   ],
   "source": [
    "import re\n",
    "# 정규표현식\n",
    "p = re.compile(\"ca.e\") # 정규표현식을 지정\n",
    "word = 'cafe'\n",
    "word2 = 'care'\n",
    "word3 = 'cark'\n",
    "\n",
    "if p.match(word3):\n",
    "    print(\"매칭이 되었습니다.\")\n",
    "else:\n",
    "    print(\"매칭 되지 않았습니다.\")\n"
   ]
  },
  {
   "cell_type": "code",
   "execution_count": 26,
   "metadata": {},
   "outputs": [
    {
     "name": "stdout",
     "output_type": "stream",
     "text": [
      "매칭되었습니다. case\n"
     ]
    }
   ],
   "source": [
    "# se$ : 첫시작이 de로 시작되어야함.\n",
    "# match: 정확히 일치해야 True\n",
    "# search: 포함이 되어있으면 True\n",
    "word = 'case'\n",
    "p = re.compile(\"(se)$\") # 정규표현식을 지정\n",
    "if p.search(word):  # 시작이 de로 시작되어야함.\n",
    "    print(\"매칭되었습니다.\",word)\n",
    "else:\n",
    "    print(\"매칭 되지 않았습니다.\",word)"
   ]
  },
  {
   "cell_type": "code",
   "execution_count": 28,
   "metadata": {},
   "outputs": [
    {
     "name": "stdout",
     "output_type": "stream",
     "text": [
      "매칭 됨 abcdef\n"
     ]
    }
   ],
   "source": [
    "# {3}: 3자리가 들어와야 True\n",
    "# {2,3}: 2~3자리가 들어와야 True\n",
    "# ^: 시작\n",
    "# []: []안에 있는 글자만 True\n",
    "# a-z : abc...z\n",
    "# A-Z : ABC...Z\n",
    "# 0-9 : 0123...9\n",
    "# ㄱ-ㅎ 가-힣 : 국문가능\n",
    "\n",
    "# 첫글자가 a이면서, 영문소문자가 5개만 들어올 수 있음.\n",
    "word = 'abcdef'\n",
    "if re.match(r'^a{1}[a-z]{5}$',word):\n",
    "    print(\"매칭 됨\",word)\n",
    "else:\n",
    "    print(\"매칭 안됨\",word)\n",
    "    "
   ]
  },
  {
   "cell_type": "code",
   "execution_count": 30,
   "metadata": {},
   "outputs": [
    {
     "name": "stdout",
     "output_type": "stream",
     "text": [
      "매칭되었습니다. 02-1234-4567\n"
     ]
    }
   ],
   "source": [
    "word = \"02-1234-4567\"\n",
    "if re.search('[0-9]{2,3}-[0-9]{4}-[0-9]{4}',word):\n",
    "    print(\"매칭되었습니다.\",word)\n",
    "else:\n",
    "    print(\"매칭되지 않음\",word)"
   ]
  },
  {
   "cell_type": "code",
   "execution_count": 5,
   "metadata": {},
   "outputs": [
    {
     "name": "stdout",
     "output_type": "stream",
     "text": [
      "제대로 입력되었습니다.\n",
      "프로그램 종료\n"
     ]
    }
   ],
   "source": [
    "# 데이터를 입력받아, 길이가 6자리, 첫글자 a가 입력이 되면\n",
    "# 제대로 입력되었습니다.\n",
    "# 다시 입력하세요라고 출력되게 구현하시오.\n",
    "# 제대로 입력되어야지만, 프로그램을 종료시키시오.\n",
    "while True:\n",
    "    data = input(\"데이터를 입력하세요\")\n",
    "    if data.isdigit() and data[0] == '1' and len(data) == 6 :\n",
    "        print(\"제대로 입력되었습니다.\")\n",
    "        break\n",
    "    else:\n",
    "        print(\"다시 입력하세요\")\n",
    "    \n",
    "print(\"프로그램 종료\")"
   ]
  }
 ],
 "metadata": {
  "kernelspec": {
   "display_name": "Python 3",
   "language": "python",
   "name": "python3"
  },
  "language_info": {
   "codemirror_mode": {
    "name": "ipython",
    "version": 3
   },
   "file_extension": ".py",
   "mimetype": "text/x-python",
   "name": "python",
   "nbconvert_exporter": "python",
   "pygments_lexer": "ipython3",
   "version": "3.12.0"
  }
 },
 "nbformat": 4,
 "nbformat_minor": 2
}
