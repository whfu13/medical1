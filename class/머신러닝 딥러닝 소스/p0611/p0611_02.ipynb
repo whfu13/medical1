{
 "cells": [
  {
   "cell_type": "code",
   "execution_count": 1,
   "metadata": {},
   "outputs": [],
   "source": [
    "import os\n",
    "import cv2\n",
    "import numpy as np\n",
    "import tensorflow as tf\n",
    "from tensorflow.keras.applications import ResNet50, DenseNet121\n",
    "from tensorflow.keras.models import Model\n",
    "from tensorflow.keras.layers import Dense, Flatten, Dropout, Input, Conv2D\n",
    "from tensorflow.keras.wrappers.scikit_learn import KerasClassifier\n",
    "from sklearn.model_selection import GridSearchCV\n",
    "from sklearn.model_selection import train_test_split\n",
    "\n",
    "# image crop\n",
    "def crop_knee(image, crop_height, crop_width):\n",
    "  h, w = image.shape[:2]\n",
    "  center = (h//2, w//2)\n",
    "  cropped_img = image[\n",
    "      center[0] - crop_height//2 : center[0] + crop_height//2,\n",
    "      center[1] - crop_width//2 : center[1] + crop_width//2\n",
    "  ]\n",
    "  return cropped_img\n",
    "\n",
    "# HE CLAHE\n",
    "def apply_img(image):\n",
    "  clahe = cv2.createCLAHE(clipLimit=2, tileGridSize=(8, 8))\n",
    "  return clahe.apply(image)\n",
    "\n",
    "# Data Load & Preprocessing\n",
    "def process_load_img(input_dir, crop_height, crop_width):\n",
    "  images = []\n",
    "  labels = []\n",
    "  for class_folder in os.listdir(input_dir):\n",
    "    class_input_path = os.path.join(input_dir, class_folder)\n",
    "    class_label = int(class_folder)\n",
    "    for img_file in os.listdir(class_input_path):\n",
    "      img_path = os.path.join(input_dir, class_folder)\n",
    "      img = cv2.imread(img_path, cv2.IMREAD_GRAYSCALE)\n",
    "      if img is not None:\n",
    "        cropped_img = crop_knee(img, crop_height, crop_width)\n",
    "        clahe_img = apply_clahe(cropped_img)\n",
    "        images.append(clahe_img)\n",
    "        labels.append(class_label)\n",
    "    return np.array(images), np.array(labels)\n",
    "  \n",
    "# Data Merge & Split(new dataset)\n",
    "def merge_split_datas(train_dir, val_dir, crop_height, crop_width, test_size=.2):\n",
    "  X_train, y_train = process_load_img(train_dir, crop_height, crop_width)\n",
    "  X_val, y_val = process_load_img(val_dir, crop_height, crop_width)\n",
    "  X_comb = np.concatenate((X_train, X_val), axis=0)\n",
    "  y_comb = np.concatenate((y_train, y_val), axis=0)\n",
    "  X_train_n, X_val_n, y_train_n, y_val_n = train_test_split(X_comb, y_comb, test_size=test_size, random_state=42, stratify=y_comb)\n",
    "  return X_train_n, X_val_n, y_train_n, y_val_n"
   ]
  },
  {
   "cell_type": "code",
   "execution_count": 3,
   "metadata": {},
   "outputs": [
    {
     "ename": "NameError",
     "evalue": "name 'crop_height' is not defined",
     "output_type": "error",
     "traceback": [
      "\u001b[1;31m---------------------------------------------------------------------------\u001b[0m",
      "\u001b[1;31mNameError\u001b[0m                                 Traceback (most recent call last)",
      "Cell \u001b[1;32mIn[3], line 1\u001b[0m\n\u001b[1;32m----> 1\u001b[0m input_shape \u001b[38;5;241m=\u001b[39m (\u001b[43mcrop_height\u001b[49m, crop_width)\n\u001b[0;32m      2\u001b[0m class_num \u001b[38;5;241m=\u001b[39m \u001b[38;5;241m5\u001b[39m\n\u001b[0;32m      3\u001b[0m \u001b[38;5;28;01mdef\u001b[39;00m \u001b[38;5;21mcreate_model\u001b[39m(model_name\u001b[38;5;241m=\u001b[39m\u001b[38;5;124m'\u001b[39m\u001b[38;5;124mResnet50\u001b[39m\u001b[38;5;124m'\u001b[39m, optimizer\u001b[38;5;241m=\u001b[39m\u001b[38;5;124m'\u001b[39m\u001b[38;5;124madam\u001b[39m\u001b[38;5;124m'\u001b[39m, dropout_rate\u001b[38;5;241m=\u001b[39m\u001b[38;5;241m.5\u001b[39m, fc_units\u001b[38;5;241m=\u001b[39m\u001b[38;5;241m512\u001b[39m, class_num\u001b[38;5;241m=\u001b[39mclass_num):\n",
      "\u001b[1;31mNameError\u001b[0m: name 'crop_height' is not defined"
     ]
    }
   ],
   "source": [
    "input_shape = (crop_height, crop_width)\n",
    "class_num = 5\n",
    "\n",
    "def create_model(model_name='Resnet50', optimizer='adam', dropout_rate=.5, fc_units=512, class_num=class_num):\n",
    "  input_layer = Input(shape=input_shape)\n",
    "  conv_layer = Conv2D(3, (3, 3), padding='same',)(input_layer)\n",
    "  if model_name == 'ResNet50':\n",
    "    base = ResNet50(weights='imagenet', include_top=False, input_shape=(crop_height, crop_width,3))\n",
    "  else:\n",
    "    base = DenseNet121(weights='imagenet', include_top=False, input_shape=(crop_height, crop_width,3))\n",
    "  base_out = base(conv_layer)\n",
    "  flatten = Flatten()(base_out)\n",
    "  fc = Dense(fc_units, activation='relu',)(flatten)\n",
    "  dropout = Dropout(dropout_rate)(fc)\n",
    "  output = Dense(class_num, activation='softmax')(dropout)\n",
    "  model = Model(inputs=input_layer, outputs=output)\n",
    "  model.compile(optimizer=optimizer, loss='sparse_categorical_crossentropy', metrics=['accuracy'])\n",
    "  return model\n",
    "model = KerasClassifier(build_fn=create_model, verbose=0)\n",
    "param_grid = {\n",
    "    'model_name':['ResNet50', 'DenseNet', ],\n",
    "    'batch_size':[16, 32],\n",
    "    'epochs':[30, 50, 80],\n",
    "    'optimizer':['adam', 'rmsprop',],\n",
    "    'dropout_rate':[0.2, 0.4, 0.5],\n",
    "    'fc_units':[512, 1024]\n",
    "}\n",
    "grid = GridSearchCV(estimator=model, param_grid=param_grid, n_jobs=-1, cv=3)\n",
    "grid_res = grid.fit(X_train, y_train)\n",
    "means = grid_res.cv_results_['mean_test_score']\n",
    "std = grid_res.cv_results_['std_test_score']\n",
    "params = grid_res.cv_results_['params']\n",
    "best_model = grid_res.best_estimator_.model\n",
    "test_loss, test_acc = best_model.evaluate(X_test, y_test, verbose=0)\n",
    "print(f\"Test Accuracy: {test_acc}\")"
   ]
  }
 ],
 "metadata": {
  "kernelspec": {
   "display_name": "project",
   "language": "python",
   "name": "python3"
  },
  "language_info": {
   "codemirror_mode": {
    "name": "ipython",
    "version": 3
   },
   "file_extension": ".py",
   "mimetype": "text/x-python",
   "name": "python",
   "nbconvert_exporter": "python",
   "pygments_lexer": "ipython3",
   "version": "3.10.14"
  }
 },
 "nbformat": 4,
 "nbformat_minor": 2
}
