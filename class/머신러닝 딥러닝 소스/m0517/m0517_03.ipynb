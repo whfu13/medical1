{
 "cells": [
  {
   "cell_type": "code",
   "execution_count": 66,
   "metadata": {},
   "outputs": [],
   "source": [
    "from sklearn import svm,metrics\n",
    "from sklearn.model_selection import train_test_split\n",
    "import pandas as pd\n",
    "import numpy as np\n",
    "import matplotlib.pyplot as plt\n",
    "import matplotlib\n",
    "import requests\n",
    "import random\n",
    "matplotlib.rcParams['font.family'] = 'Malgun Gothic' # 한글설정\n",
    "matplotlib.rcParams['font.size'] = 10 # 글자크기\n",
    "matplotlib.rcParams['axes.unicode_minus'] = False"
   ]
  },
  {
   "cell_type": "code",
   "execution_count": 67,
   "metadata": {},
   "outputs": [
    {
     "data": {
      "text/html": [
       "<div>\n",
       "<style scoped>\n",
       "    .dataframe tbody tr th:only-of-type {\n",
       "        vertical-align: middle;\n",
       "    }\n",
       "\n",
       "    .dataframe tbody tr th {\n",
       "        vertical-align: top;\n",
       "    }\n",
       "\n",
       "    .dataframe thead th {\n",
       "        text-align: right;\n",
       "    }\n",
       "</style>\n",
       "<table border=\"1\" class=\"dataframe\">\n",
       "  <thead>\n",
       "    <tr style=\"text-align: right;\">\n",
       "      <th></th>\n",
       "      <th>SepalLength</th>\n",
       "      <th>SepalWidth</th>\n",
       "      <th>PetalLength</th>\n",
       "      <th>PetalWidth</th>\n",
       "      <th>Name</th>\n",
       "    </tr>\n",
       "  </thead>\n",
       "  <tbody>\n",
       "    <tr>\n",
       "      <th>0</th>\n",
       "      <td>5.1</td>\n",
       "      <td>3.5</td>\n",
       "      <td>1.4</td>\n",
       "      <td>0.2</td>\n",
       "      <td>Iris-setosa</td>\n",
       "    </tr>\n",
       "    <tr>\n",
       "      <th>1</th>\n",
       "      <td>4.9</td>\n",
       "      <td>3.0</td>\n",
       "      <td>1.4</td>\n",
       "      <td>0.2</td>\n",
       "      <td>Iris-setosa</td>\n",
       "    </tr>\n",
       "    <tr>\n",
       "      <th>2</th>\n",
       "      <td>4.7</td>\n",
       "      <td>3.2</td>\n",
       "      <td>1.3</td>\n",
       "      <td>0.2</td>\n",
       "      <td>Iris-setosa</td>\n",
       "    </tr>\n",
       "  </tbody>\n",
       "</table>\n",
       "</div>"
      ],
      "text/plain": [
       "   SepalLength  SepalWidth  PetalLength  PetalWidth         Name\n",
       "0          5.1         3.5          1.4         0.2  Iris-setosa\n",
       "1          4.9         3.0          1.4         0.2  Iris-setosa\n",
       "2          4.7         3.2          1.3         0.2  Iris-setosa"
      ]
     },
     "execution_count": 67,
     "metadata": {},
     "output_type": "execute_result"
    }
   ],
   "source": [
    "df = pd.read_csv('../z20_data/iris.csv')\n",
    "df.head(3)"
   ]
  },
  {
   "cell_type": "code",
   "execution_count": 21,
   "metadata": {},
   "outputs": [],
   "source": [
    "# rows 100개를 출력하시오.\n",
    "df.head(100)\n",
    "# SepalLength\tSepalWidth\tPetalLength\tPetalWidth\n",
    "train_input = df[['SepalLength','SepalWidth','PetalLength','PetalWidth']].head(100)"
   ]
  },
  {
   "cell_type": "code",
   "execution_count": 53,
   "metadata": {},
   "outputs": [],
   "source": [
    "# 1. 데이터 전처리 train,test 데이터 분리\n",
    "# iloc( row, columns)\n",
    "df.iloc[:100,:-1]\n",
    "train_input = df.iloc[:100,:-1]\n",
    "test_input = df.iloc[100:,:-1]\n",
    "train_target = df.iloc[:100,4]\n",
    "test_target = df.iloc[100:,4]"
   ]
  },
  {
   "cell_type": "code",
   "execution_count": 15,
   "metadata": {},
   "outputs": [],
   "source": [
    "# # test_input = rows 50개를 출력하시오.\n",
    "# # SepalLength\tSepalWidth\tPetalLength\tPetalWidth\n",
    "# test_input = df[['SepalLength','SepalWidth','PetalLength','PetalWidth']].head(50)\n",
    "# # train_target = rows 100개를 출력하시오\n",
    "# # Name\n",
    "# train_target = df['Name'].head(100)\n",
    "# # test_target = rows 50개를 출력하시오\n",
    "# # Name\n",
    "# test_target = df['Name'].head(50)\n"
   ]
  },
  {
   "cell_type": "code",
   "execution_count": 9,
   "metadata": {},
   "outputs": [
    {
     "data": {
      "text/plain": [
       "0    Iris-setosa\n",
       "1    Iris-setosa\n",
       "2    Iris-setosa\n",
       "3    Iris-setosa\n",
       "4    Iris-setosa\n",
       "Name: Name, dtype: object"
      ]
     },
     "execution_count": 9,
     "metadata": {},
     "output_type": "execute_result"
    }
   ],
   "source": [
    "df['Name'].head()"
   ]
  },
  {
   "cell_type": "code",
   "execution_count": 55,
   "metadata": {},
   "outputs": [],
   "source": [
    "np.random.seed(150)\n",
    "# (0-149) 150개 배열 생성"
   ]
  },
  {
   "cell_type": "code",
   "execution_count": 54,
   "metadata": {},
   "outputs": [
    {
     "name": "stdout",
     "output_type": "stream",
     "text": [
      "[123 147  59  34  67  64  69  79  66   9  29  91 111 127  94 114  92   0\n",
      " 131  74 126 105  21 109 137  13  55  56  23  38 112  73 113  89 146 110\n",
      "  93  30 144  32 118 133  80 104  48  26  43  36  27  90   4  22 129 108\n",
      "  65  82 120 125   5  76 106  31  18   7 142  44 143  33  35  95 121 115\n",
      "  10  12  85   1 128 119  63  20  97  15  70  58  46  39 132  96 140  53\n",
      "  54   8  77  25  71  87  16 136  75  37  17 101 107  24  83  57  68  28\n",
      "  86  49 130  78  40  88  61   6 116  45  84 149  51  98 122 103 124 139\n",
      "  14  60 134 138   3  41 117  72 135 100  42 148  50  11 141  99  62  19\n",
      "  81   2  52 145  47 102]\n"
     ]
    }
   ],
   "source": [
    "# 파이썬 random함수\n",
    "index = [ i for i in range(150) ]\n",
    "random.shuffle(index)\n",
    "\n",
    "# numpy random함수\n",
    "# random code 0-149 랜덤숫자를 생성\n",
    "index = np.arange(150)\n",
    "np.random.shuffle(index)\n",
    "print(index)"
   ]
  },
  {
   "cell_type": "code",
   "execution_count": 56,
   "metadata": {},
   "outputs": [],
   "source": [
    "# index로 df에 대입해서 가져오면, 랜덤으로 데이터가 섞여서 가져올 수 있음.\n",
    "train_input = df.iloc[index[:100],:-1]"
   ]
  },
  {
   "cell_type": "code",
   "execution_count": 23,
   "metadata": {},
   "outputs": [],
   "source": [
    "# 1. 데이터 전처리: train_data,test_data\n",
    "# df.iloc[:100,:-1]\n",
    "# train_input = df.iloc[:100,:-1]\n",
    "# test_input = df.iloc[100:,:-1]\n",
    "# train_target = df.iloc[:100,4]\n",
    "# test_target = df.iloc[100:,4]\n",
    "\n",
    "# 랜덤으로 데이터 추출: train,test 데이터 수동으로 분리\n",
    "# train_input = df.iloc[index[:100],:-1]\n",
    "# test_input = df.iloc[index[100:],:-1]\n",
    "# train_target = df.iloc[index[:100],4]\n",
    "# test_target = df.iloc[index[100:],4]\n",
    "\n",
    "# 2. 데이터 학습시키기\n",
    "\n",
    "# 3. 데이터 예측하기\n",
    "\n",
    "# 4. 정답률 구하기"
   ]
  },
  {
   "cell_type": "code",
   "execution_count": 68,
   "metadata": {},
   "outputs": [],
   "source": [
    "# 1. 데이터 전처리 - data,result 데이터 분리\n",
    "datas_input = df.iloc[:,:-1]\n",
    "datas_target = df.iloc[:,4]\n",
    "\n",
    "# 모든 data를 가지고, train,test 데이터 분리\n",
    "# train,test 데이터 자동으로 분리해줌.\n",
    "train_input,test_input,train_target,test_target = train_test_split(datas_input,datas_target)\n"
   ]
  },
  {
   "cell_type": "code",
   "execution_count": 69,
   "metadata": {},
   "outputs": [
    {
     "name": "stdout",
     "output_type": "stream",
     "text": [
      "정답률 :  0.868421052631579\n"
     ]
    }
   ],
   "source": [
    "# 2. 데이터 학습시키기 - 모델 선정후 데이터훈련\n",
    "clf = svm.SVC()\n",
    "# 데이터 훈련\n",
    "clf.fit(train_input,train_target)\n",
    "\n",
    "# 3. 데이터 예측하기\n",
    "result = clf.predict(test_input)\n",
    "\n",
    "# 4. 정답률 구하기\n",
    "# score = metrics.accuracy_score(test_target,result)\n",
    "score = clf.score(test_input,test_target)\n",
    "print(\"정답률 : \",score)"
   ]
  },
  {
   "cell_type": "code",
   "execution_count": null,
   "metadata": {},
   "outputs": [],
   "source": [
    "# 4.9 2.9 1.4 0.2 => 무슨 품종인지 출력하시오.\n",
    "# 5.6 3   4.1 1.2\n",
    "# 6.5 2.8 6.7 2.2"
   ]
  }
 ],
 "metadata": {
  "kernelspec": {
   "display_name": "Python 3",
   "language": "python",
   "name": "python3"
  },
  "language_info": {
   "codemirror_mode": {
    "name": "ipython",
    "version": 3
   },
   "file_extension": ".py",
   "mimetype": "text/x-python",
   "name": "python",
   "nbconvert_exporter": "python",
   "pygments_lexer": "ipython3",
   "version": "3.12.0"
  }
 },
 "nbformat": 4,
 "nbformat_minor": 2
}
