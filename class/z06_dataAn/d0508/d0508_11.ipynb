{
 "cells": [
  {
   "cell_type": "code",
   "execution_count": 12,
   "metadata": {},
   "outputs": [
    {
     "name": "stderr",
     "output_type": "stream",
     "text": [
      "c:\\Python312\\Lib\\site-packages\\openpyxl\\styles\\stylesheet.py:226: UserWarning: Workbook contains no default style, apply openpyxl's default\n",
      "  warn(\"Workbook contains no default style, apply openpyxl's default\")\n"
     ]
    },
    {
     "data": {
      "text/plain": [
       "행정기관\n",
       "전국           1417505\n",
       "서울특별시         226004\n",
       "부산광역시          80689\n",
       "대구광역시          60786\n",
       "인천광역시          85169\n",
       "광주광역시          42139\n",
       "대전광역시          41361\n",
       "울산광역시          32670\n",
       "세종특별자치시        18847\n",
       "경기도           423759\n",
       "강원도            40510\n",
       "충청북도           43987\n",
       "충청남도           60820\n",
       "전라북도           41881\n",
       "전라남도           46307\n",
       "경상북도           65272\n",
       "경상남도           86004\n",
       "제주특별자치도        21300\n",
       "Name: 0~4세, dtype: object"
      ]
     },
     "execution_count": 12,
     "metadata": {},
     "output_type": "execute_result"
    }
   ],
   "source": [
    "import pandas as pd\n",
    "df = pd.read_excel('20230103_인구.xlsx',skiprows=3,usecols='B,E:Y',index_col='행정기관')\n",
    "\n",
    "for i in range(df.shape[0]):\n",
    "    df.iloc[i] = df.iloc[i].str.replace(\",\",\"\").astype(int)\n",
    "df['0~4세']\n",
    "# df.describe()\n",
    "# df.shape[0]"
   ]
  }
 ],
 "metadata": {
  "kernelspec": {
   "display_name": "Python 3",
   "language": "python",
   "name": "python3"
  },
  "language_info": {
   "codemirror_mode": {
    "name": "ipython",
    "version": 3
   },
   "file_extension": ".py",
   "mimetype": "text/x-python",
   "name": "python",
   "nbconvert_exporter": "python",
   "pygments_lexer": "ipython3",
   "version": "3.12.0"
  }
 },
 "nbformat": 4,
 "nbformat_minor": 2
}
