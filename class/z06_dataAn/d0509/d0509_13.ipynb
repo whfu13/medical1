{
 "cells": [
  {
   "cell_type": "code",
   "execution_count": 21,
   "metadata": {},
   "outputs": [
    {
     "name": "stderr",
     "output_type": "stream",
     "text": [
      "c:\\Python312\\Lib\\site-packages\\openpyxl\\styles\\stylesheet.py:226: UserWarning: Workbook contains no default style, apply openpyxl's default\n",
      "  warn(\"Workbook contains no default style, apply openpyxl's default\")\n"
     ]
    }
   ],
   "source": [
    "import pandas as pd\n",
    "df = pd.read_excel('../z20_data/20230103_인구.xlsx',skiprows=3,index_col='행정기관',usecols='B,E:Y')\n"
   ]
  },
  {
   "cell_type": "code",
   "execution_count": 22,
   "metadata": {},
   "outputs": [],
   "source": [
    "## 전국,서울특별시 합계구하기\n",
    "\n",
    "# 컬럼별 타입 변경\n",
    "for i in range(len(df)):\n",
    "    df.iloc[i] = df.iloc[i].str.replace(\",\",\"\").astype(int)\n"
   ]
  },
  {
   "cell_type": "code",
   "execution_count": 23,
   "metadata": {},
   "outputs": [
    {
     "data": {
      "text/plain": [
       "Index(['전국  ', '서울특별시  ', '부산광역시  ', '대구광역시  ', '인천광역시  ', '광주광역시  ',\n",
       "       '대전광역시  ', '울산광역시  ', '세종특별자치시  ', '경기도  ', '강원도  ', '충청북도  ', '충청남도  ',\n",
       "       '전라북도  ', '전라남도  ', '경상북도  ', '경상남도  ', '제주특별자치도  '],\n",
       "      dtype='object', name='행정기관')"
      ]
     },
     "execution_count": 23,
     "metadata": {},
     "output_type": "execute_result"
    }
   ],
   "source": [
    "df.index"
   ]
  },
  {
   "cell_type": "code",
   "execution_count": 27,
   "metadata": {},
   "outputs": [],
   "source": [
    "df['총합','전국 '] = df.iloc[0].sum()"
   ]
  },
  {
   "cell_type": "code",
   "execution_count": 28,
   "metadata": {},
   "outputs": [
    {
     "data": {
      "text/plain": [
       "51430018"
      ]
     },
     "execution_count": 28,
     "metadata": {},
     "output_type": "execute_result"
    }
   ],
   "source": [
    "# 처음 전국 index의 가로 합\n",
    "df.iloc[0].sum()"
   ]
  },
  {
   "cell_type": "code",
   "execution_count": 29,
   "metadata": {},
   "outputs": [],
   "source": [
    "df.iloc[1,21] = df.iloc[1].sum()"
   ]
  },
  {
   "cell_type": "code",
   "execution_count": 33,
   "metadata": {},
   "outputs": [
    {
     "data": {
      "text/plain": [
       "Index(['0~4세', '5~9세', '10~14세', '15~19세', '20~24세', '25~29세', '30~34세',\n",
       "       '35~39세', '40~44세', '45~49세', '50~54세', '55~59세', '60~64세', '65~69세',\n",
       "       '70~74세', '75~79세', '80~84세', '85~89세', '90~94세', '95~99세', '100세 이상',\n",
       "       '총합'],\n",
       "      dtype='object')"
      ]
     },
     "execution_count": 33,
     "metadata": {},
     "output_type": "execute_result"
    }
   ],
   "source": [
    "df.columns"
   ]
  },
  {
   "cell_type": "code",
   "execution_count": 30,
   "metadata": {},
   "outputs": [],
   "source": [
    "for i in range(len(df)):\n",
    "    df.iloc[1,21] = df.iloc[1].sum() # 총합의 컬럼위치를 찾을수 있어야 함."
   ]
  },
  {
   "cell_type": "code",
   "execution_count": 32,
   "metadata": {},
   "outputs": [
    {
     "data": {
      "text/plain": [
       "행정기관\n",
       "전국           1417505\n",
       "서울특별시         226004\n",
       "부산광역시          80689\n",
       "대구광역시          60786\n",
       "인천광역시          85169\n",
       "광주광역시          42139\n",
       "대전광역시          41361\n",
       "울산광역시          32670\n",
       "세종특별자치시        18847\n",
       "경기도           423759\n",
       "강원도            40510\n",
       "충청북도           43987\n",
       "충청남도           60820\n",
       "전라북도           41881\n",
       "전라남도           46307\n",
       "경상북도           65272\n",
       "경상남도           86004\n",
       "제주특별자치도        21300\n",
       "Name: 0~4세, dtype: object"
      ]
     },
     "execution_count": 32,
     "metadata": {},
     "output_type": "execute_result"
    }
   ],
   "source": [
    "df[df.columns[0]]"
   ]
  }
 ],
 "metadata": {
  "kernelspec": {
   "display_name": "Python 3",
   "language": "python",
   "name": "python3"
  },
  "language_info": {
   "codemirror_mode": {
    "name": "ipython",
    "version": 3
   },
   "file_extension": ".py",
   "mimetype": "text/x-python",
   "name": "python",
   "nbconvert_exporter": "python",
   "pygments_lexer": "ipython3",
   "version": "3.12.0"
  }
 },
 "nbformat": 4,
 "nbformat_minor": 2
}
